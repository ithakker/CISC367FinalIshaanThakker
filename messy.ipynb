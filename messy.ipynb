{
 "cells": [
  {
   "cell_type": "markdown",
   "id": "comprehensive-thomson",
   "metadata": {},
   "source": [
    "Adding spot for links to resources used:\n",
    "\n",
    "<sup> 1 </sup>https://www.nerdwallet.com/article/investing/cryptocurrency-7-things-to-know\n",
    "\n",
    "<sup> 2 </sup>https://coinmarketcap.com/\n",
    "\n",
    "<sup> 3 </sup>https://www.getsmarter.com/blog/career-advice/what-stakeholders-are-involved-in-the-blockchain-strategy-system/#:~:text=Stakeholders%20from%20the%20networking%20layer,network%20is%20a%20distributed%20one\n"
   ]
  },
  {
   "cell_type": "code",
   "execution_count": 18,
   "id": "pleased-scale",
   "metadata": {},
   "outputs": [],
   "source": [
    "import pandas as pd\n",
    "import numpy as np\n",
    "from scipy import stats\n",
    "import matplotlib.pyplot as plt\n",
    "import seaborn as sns\n",
    "from datetime import datetime\n",
    "\n",
    "import warnings\n",
    "warnings.filterwarnings(\"ignore\")\n",
    "\n",
    "df = pd.read_csv('data/crypto-markets.csv')"
   ]
  },
  {
   "cell_type": "code",
   "execution_count": 19,
   "id": "dirty-colors",
   "metadata": {},
   "outputs": [
    {
     "name": "stdout",
     "output_type": "stream",
     "text": [
      "Index(['slug', 'symbol', 'name', 'date', 'ranknow', 'open', 'high', 'low',\n",
      "       'close', 'volume', 'market', 'close_ratio', 'spread'],\n",
      "      dtype='object')\n"
     ]
    }
   ],
   "source": [
    "#Set up the data\n",
    "print(df.columns)\n",
    "#Describe some of these terms in the final file"
   ]
  },
  {
   "cell_type": "code",
   "execution_count": 20,
   "id": "continental-insured",
   "metadata": {},
   "outputs": [
    {
     "data": {
      "text/plain": [
       "2071"
      ]
     },
     "execution_count": 20,
     "metadata": {},
     "output_type": "execute_result"
    }
   ],
   "source": [
    "len(df.slug.unique())"
   ]
  },
  {
   "cell_type": "code",
   "execution_count": 21,
   "id": "leading-equipment",
   "metadata": {},
   "outputs": [
    {
     "data": {
      "text/html": [
       "<div>\n",
       "<style scoped>\n",
       "    .dataframe tbody tr th:only-of-type {\n",
       "        vertical-align: middle;\n",
       "    }\n",
       "\n",
       "    .dataframe tbody tr th {\n",
       "        vertical-align: top;\n",
       "    }\n",
       "\n",
       "    .dataframe thead th {\n",
       "        text-align: right;\n",
       "    }\n",
       "</style>\n",
       "<table border=\"1\" class=\"dataframe\">\n",
       "  <thead>\n",
       "    <tr style=\"text-align: right;\">\n",
       "      <th></th>\n",
       "      <th>slug</th>\n",
       "      <th>symbol</th>\n",
       "      <th>name</th>\n",
       "      <th>date</th>\n",
       "      <th>ranknow</th>\n",
       "      <th>open</th>\n",
       "      <th>high</th>\n",
       "      <th>low</th>\n",
       "      <th>close</th>\n",
       "      <th>volume</th>\n",
       "      <th>market</th>\n",
       "      <th>close_ratio</th>\n",
       "      <th>spread</th>\n",
       "    </tr>\n",
       "  </thead>\n",
       "  <tbody>\n",
       "    <tr>\n",
       "      <th>0</th>\n",
       "      <td>bitcoin</td>\n",
       "      <td>BTC</td>\n",
       "      <td>Bitcoin</td>\n",
       "      <td>2013-04-28</td>\n",
       "      <td>1</td>\n",
       "      <td>135.30</td>\n",
       "      <td>135.98</td>\n",
       "      <td>132.10</td>\n",
       "      <td>134.21</td>\n",
       "      <td>0.0</td>\n",
       "      <td>1.488567e+09</td>\n",
       "      <td>0.5438</td>\n",
       "      <td>3.88</td>\n",
       "    </tr>\n",
       "    <tr>\n",
       "      <th>1</th>\n",
       "      <td>bitcoin</td>\n",
       "      <td>BTC</td>\n",
       "      <td>Bitcoin</td>\n",
       "      <td>2013-04-29</td>\n",
       "      <td>1</td>\n",
       "      <td>134.44</td>\n",
       "      <td>147.49</td>\n",
       "      <td>134.00</td>\n",
       "      <td>144.54</td>\n",
       "      <td>0.0</td>\n",
       "      <td>1.603769e+09</td>\n",
       "      <td>0.7813</td>\n",
       "      <td>13.49</td>\n",
       "    </tr>\n",
       "    <tr>\n",
       "      <th>2</th>\n",
       "      <td>bitcoin</td>\n",
       "      <td>BTC</td>\n",
       "      <td>Bitcoin</td>\n",
       "      <td>2013-04-30</td>\n",
       "      <td>1</td>\n",
       "      <td>144.00</td>\n",
       "      <td>146.93</td>\n",
       "      <td>134.05</td>\n",
       "      <td>139.00</td>\n",
       "      <td>0.0</td>\n",
       "      <td>1.542813e+09</td>\n",
       "      <td>0.3843</td>\n",
       "      <td>12.88</td>\n",
       "    </tr>\n",
       "    <tr>\n",
       "      <th>3</th>\n",
       "      <td>bitcoin</td>\n",
       "      <td>BTC</td>\n",
       "      <td>Bitcoin</td>\n",
       "      <td>2013-05-01</td>\n",
       "      <td>1</td>\n",
       "      <td>139.00</td>\n",
       "      <td>139.89</td>\n",
       "      <td>107.72</td>\n",
       "      <td>116.99</td>\n",
       "      <td>0.0</td>\n",
       "      <td>1.298955e+09</td>\n",
       "      <td>0.2882</td>\n",
       "      <td>32.17</td>\n",
       "    </tr>\n",
       "    <tr>\n",
       "      <th>4</th>\n",
       "      <td>bitcoin</td>\n",
       "      <td>BTC</td>\n",
       "      <td>Bitcoin</td>\n",
       "      <td>2013-05-02</td>\n",
       "      <td>1</td>\n",
       "      <td>116.38</td>\n",
       "      <td>125.60</td>\n",
       "      <td>92.28</td>\n",
       "      <td>105.21</td>\n",
       "      <td>0.0</td>\n",
       "      <td>1.168517e+09</td>\n",
       "      <td>0.3881</td>\n",
       "      <td>33.32</td>\n",
       "    </tr>\n",
       "  </tbody>\n",
       "</table>\n",
       "</div>"
      ],
      "text/plain": [
       "      slug symbol     name        date  ranknow    open    high     low  \\\n",
       "0  bitcoin    BTC  Bitcoin  2013-04-28        1  135.30  135.98  132.10   \n",
       "1  bitcoin    BTC  Bitcoin  2013-04-29        1  134.44  147.49  134.00   \n",
       "2  bitcoin    BTC  Bitcoin  2013-04-30        1  144.00  146.93  134.05   \n",
       "3  bitcoin    BTC  Bitcoin  2013-05-01        1  139.00  139.89  107.72   \n",
       "4  bitcoin    BTC  Bitcoin  2013-05-02        1  116.38  125.60   92.28   \n",
       "\n",
       "    close  volume        market  close_ratio  spread  \n",
       "0  134.21     0.0  1.488567e+09       0.5438    3.88  \n",
       "1  144.54     0.0  1.603769e+09       0.7813   13.49  \n",
       "2  139.00     0.0  1.542813e+09       0.3843   12.88  \n",
       "3  116.99     0.0  1.298955e+09       0.2882   32.17  \n",
       "4  105.21     0.0  1.168517e+09       0.3881   33.32  "
      ]
     },
     "execution_count": 21,
     "metadata": {},
     "output_type": "execute_result"
    }
   ],
   "source": [
    "#Convert raw data to log scale for easier data manipulation and analysis \n",
    "df.head()"
   ]
  },
  {
   "cell_type": "code",
   "execution_count": 22,
   "id": "extreme-mobility",
   "metadata": {},
   "outputs": [
    {
     "data": {
      "text/plain": [
       "0    134.21\n",
       "1    144.54\n",
       "2    139.00\n",
       "3    116.99\n",
       "4    105.21\n",
       "Name: close, dtype: float64"
      ]
     },
     "execution_count": 22,
     "metadata": {},
     "output_type": "execute_result"
    }
   ],
   "source": [
    "df['log_close'] = np.log(df.close)\n",
    "df['log_volume'] = np.log(df.volume)\n",
    "df['log_market'] = np.log(df.market)\n",
    "df['spread'] = (df.high - df.low) / df.close\n",
    "df['log_return'] = np.log(df.close / df.close.shift(1))\n",
    "df.close.head()"
   ]
  },
  {
   "cell_type": "code",
   "execution_count": 23,
   "id": "sporting-employee",
   "metadata": {},
   "outputs": [],
   "source": [
    "#replace all none values\n",
    "crypto = crypto.replace([np.inf,-np.inf, np.nan], 0)\n",
    "#crypto.head(10)"
   ]
  },
  {
   "cell_type": "code",
   "execution_count": 28,
   "id": "australian-excitement",
   "metadata": {},
   "outputs": [
    {
     "name": "stdout",
     "output_type": "stream",
     "text": [
      "2013-04-28 to 2018-11-30\n"
     ]
    },
    {
     "data": {
      "image/png": "[encoded data removed]",
      "text/plain": [
       "<Figure size 432x432 with 1 Axes>"
      ]
     },
     "metadata": {},
     "output_type": "display_data"
    }
   ],
   "source": [
    "#Trying out code for question 1\n",
    "\n",
    "#Need to know what dates this data ranges from\n",
    "crypto['date'] = pd.to_datetime(crypto['date'])\n",
    "date_range = str(crypto['date'].dt.date.min()) + ' to ' + str(crypto['date'].dt.date.max())\n",
    "print(date_range)\n",
    "\n",
    "#Picking a date to create pie chart for representation of this section\n",
    "crypto_date = crypto[crypto.date == datetime(2018,11,29)]\n",
    "crypto_date.sort_values('ranknow', ascending = True)\n",
    "crypto_date['composition'] = np.where(crypto_date.ranknow <= 10, crypto_date.ranknow, 100)\n",
    "crypto_mkt_comp = crypto_date.groupby(by = ['composition'])['market'].sum()\n",
    "\n",
    "#Pie chart\n",
    "\n",
    "labels = crypto_date[crypto_date.ranknow <= 11].slug.replace('monero', 'other')\n",
    "sizes = crypto_mkt_comp\n",
    "\n",
    "make_larger = (0.1, 0.1, 0.1, 0, 0, 0, 0, 0, 0, 0, 0)\n",
    "\n",
    "fig1, ax1 = plt.subplots(figsize=(6,6))\n",
    "ax1.set_title('Market composition')\n",
    "ax1.pie(sizes, explode = make_larger, labels=labels, autopct='%1.1f%%', shadow=True, startangle=90)\n",
    "ax1.axis('equal') \n",
    "plt.show()"
   ]
  },
  {
   "cell_type": "code",
   "execution_count": null,
   "id": "spread-stopping",
   "metadata": {},
   "outputs": [],
   "source": []
  }
 ],
 "metadata": {
  "kernelspec": {
   "display_name": "Python 3",
   "language": "python",
   "name": "python3"
  },
  "language_info": {
   "codemirror_mode": {
    "name": "ipython",
    "version": 3
   },
   "file_extension": ".py",
   "mimetype": "text/x-python",
   "name": "python",
   "nbconvert_exporter": "python",
   "pygments_lexer": "ipython3",
   "version": "3.9.1"
  }
 },
 "nbformat": 4,
 "nbformat_minor": 5
}
